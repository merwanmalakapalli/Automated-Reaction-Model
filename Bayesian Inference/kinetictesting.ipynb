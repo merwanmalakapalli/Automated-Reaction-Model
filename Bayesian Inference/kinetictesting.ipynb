{
 "cells": [
  {
   "cell_type": "code",
   "execution_count": 1,
   "id": "initial_id",
   "metadata": {
    "ExecuteTime": {
     "end_time": "2025-06-05T18:18:45.881409Z",
     "start_time": "2025-06-05T18:18:45.876373Z"
    },
    "collapsed": true
   },
   "outputs": [
    {
     "name": "stderr",
     "output_type": "stream",
     "text": [
      "C:\\Users\\MalakM02\\AppData\\Local\\Packages\\PythonSoftwareFoundation.Python.3.13_qbz5n2kfra8p0\\LocalCache\\local-packages\\Python313\\site-packages\\tqdm\\auto.py:21: TqdmWarning: IProgress not found. Please update jupyter and ipywidgets. See https://ipywidgets.readthedocs.io/en/stable/user_install.html\n",
      "  from .autonotebook import tqdm as notebook_tqdm\n"
     ]
    }
   ],
   "source": [
    "import jax.numpy as jnp\n",
    "import pandas as pd\n",
    "import arviz as az\n",
    "import numpyro\n",
    "import numpyro.distributions as dist\n",
    "import jax\n",
    "import matplotlib.pyplot as plt\n",
    "import seaborn as sns\n",
    "import numpy as np\n",
    "import sys\n",
    "from pprint import pprint\n",
    "# SKAI imports\n",
    "\n",
    "# symbolic ODE solver from SKAI\n",
    "from BI.utilities.reaction_solver import SymbolicRXNSolver\n",
    "\n",
    "# bayesian inference from SKAI\n",
    "from BI.models.Inference import BayesianKineticAI"
   ]
  },
  {
   "cell_type": "code",
   "execution_count": 2,
   "id": "ef0082b8f1dd701",
   "metadata": {
    "ExecuteTime": {
     "end_time": "2025-06-05T18:18:39.089768Z",
     "start_time": "2025-06-05T18:18:39.032556Z"
    }
   },
   "outputs": [
    {
     "data": {
      "text/plain": [
       "dict_keys(['T', 'SM', 'base', 'reagent', 'time'])"
      ]
     },
     "execution_count": 2,
     "metadata": {},
     "output_type": "execute_result"
    }
   ],
   "source": [
    "# experimental data\n",
    "df_raw = pd.read_csv(\"example_2_experimental_data2.csv\")\n",
    "\n",
    "# initial conditions\n",
    "input_data_for_case_study_1 = pd.read_csv('Initial_conditions_example2.csv').to_dict(orient='list')\n",
    "input_data_for_case_study_1.keys()"
   ]
  },
  {
   "cell_type": "code",
   "execution_count": 3,
   "id": "82392ca91108f00b",
   "metadata": {
    "ExecuteTime": {
     "end_time": "2025-06-05T18:48:04.011481Z",
     "start_time": "2025-06-05T18:48:04.002664Z"
    }
   },
   "outputs": [
    {
     "name": "stdout",
     "output_type": "stream",
     "text": [
      "Input matrix:  [[81.9   81.9   81.9   61.1   71.   ]\n",
      " [ 0.208  0.203  0.204  0.209  0.209]\n",
      " [ 0.2    0.4    0.2    0.2    0.2  ]\n",
      " [ 0.405  0.405  0.811  0.406  0.407]]\n"
     ]
    }
   ],
   "source": [
    "# Automated way to get initial conditions from file\n",
    "inputdata = input_data_for_case_study_1\n",
    "\n",
    "columns = list(inputdata.keys())\n",
    "\n",
    "time_col = inputdata['time']\n",
    "\n",
    "num_rows = len(time_col)\n",
    "\n",
    "value_columns = [col for col in columns if col != 'time']\n",
    "collected_rows = []\n",
    "\n",
    "for i in range(num_rows):\n",
    "    if time_col[i] == 0:\n",
    "        row_values = [inputdata[col][i] for col in value_columns]\n",
    "        # switching the last two columns because it breaks otherwise\n",
    "        if len(row_values) >= 2:\n",
    "            row_values[-2], row_values[-1] = row_values[-1], row_values[-2]\n",
    "        collected_rows.append(row_values)\n",
    "\n",
    "\n",
    "input_matrix = jnp.array(collected_rows).T\n",
    "# print(input_matrix)\n",
    "\n",
    "# X1 = jnp.array([81.9, 0.208, 0.2, 0.405])\n",
    "# X2 = jnp.array([81.9, 0.203, 0.4, 0.405])\n",
    "# X3 = jnp.array([81.9, 0.204, 0.2, 0.811])\n",
    "# X4 = jnp.array([61.1, 0.209, 0.2, 0.406])\n",
    "# X5 = jnp.array([71.0, 0.209, 0.2, 0.407])\n",
    "\n",
    "# X1 = jnp.reshape(X1, (4, 1))\n",
    "# X2 = jnp.reshape(X2, (4, 1))\n",
    "# X3 = jnp.reshape(X3, (4, 1))\n",
    "# X4 = jnp.reshape(X4, (4, 1))\n",
    "# X5 = jnp.reshape(X5, (4, 1))\n",
    "\n",
    "# input_matrix = jnp.concatenate([X1, X2, X3, X4, X5], axis=1)\n",
    "print(\"Input matrix: \", input_matrix)"
   ]
  },
  {
   "cell_type": "code",
   "execution_count": 4,
   "id": "fe27f3d90044c114",
   "metadata": {},
   "outputs": [],
   "source": [
    "\n",
    "# define the initial conditions\n",
    "#\n",
    "#                  # T  SM_0   R_0   B_0\n",
    "# X1 = jnp.array([81.9, 0.208, 0.2, 0.405])\n",
    "# X2 = jnp.array([81.9, 0.203, 0.4, 0.405])\n",
    "# X3 = jnp.array([81.9, 0.204, 0.2, 0.811])\n",
    "# X4 = jnp.array([61.1, 0.209, 0.2, 0.406])\n",
    "# X5 = jnp.array([71.0, 0.209, 0.2, 0.407])\n",
    "#\n",
    "# X1 = jnp.reshape(X1, (4, 1))\n",
    "# X2 = jnp.reshape(X2, (4, 1))\n",
    "# X3 = jnp.reshape(X3, (4, 1))\n",
    "# X4 = jnp.reshape(X4, (4, 1))\n",
    "# X5 = jnp.reshape(X5, (4, 1))\n",
    "#\n",
    "# input_matrix = jnp.concatenate([X1, X2, X3, X4, X5], axis=1)\n",
    "\n",
    "time = jnp.array([0.0, 15.0, 30.0, 45.0, 60.0, 90.0, 120.0, 180.0, 240.0, 360.0, 480.0, 540.0, 600.0, 780.0, 900.0, 960.0, 1207.0, 1374.0])\n",
    "t = jnp.array([0.0, 15.0, 30.0, 45.0, 60.0, 90.0, 120.0, 180.0, 240.0, 360.0, 540.0, 900.0])\n",
    "\n",
    "\n",
    "# ground_truth_params = {\n",
    "# \"k1_f\": 0.011,\n",
    "# \"E1_f\": 70.2E3,\n",
    "# \"k2_f\": 0.002,\n",
    "# \"E2_f\": 78.92E3,\n",
    "# }\n",
    "\n",
    "ground_truth_params = {\n",
    "\"k1_f\": 0.1,\n",
    "\"E1_f\": 70000,\n",
    "\"k2_f\": 0.1,\n",
    "\"E2_f\": 70000,\n",
    "}"
   ]
  },
  {
   "cell_type": "code",
   "execution_count": 5,
   "id": "7bf6011141f893a",
   "metadata": {
    "ExecuteTime": {
     "end_time": "2025-06-05T18:18:52.099085Z",
     "start_time": "2025-06-05T18:18:51.986625Z"
    }
   },
   "outputs": [],
   "source": [
    "# Reading intial conditions and put them into a jnp array as the main input \"X_measured\"\n",
    "\n",
    "T              = jnp.array(input_data_for_case_study_1['T'])\n",
    "SM             = jnp.array(input_data_for_case_study_1['SM'])\n",
    "reagent        = jnp.array(input_data_for_case_study_1['reagent'])\n",
    "base           = jnp.array(input_data_for_case_study_1['base'])\n",
    "time           = jnp.array(input_data_for_case_study_1['time'])\n",
    "\n",
    "\n",
    "X_measured     = jnp.column_stack((T, SM, reagent, base, time))"
   ]
  },
  {
   "cell_type": "code",
   "execution_count": 6,
   "id": "cc0990f6934ce4d7",
   "metadata": {
    "ExecuteTime": {
     "end_time": "2025-06-05T18:18:53.003557Z",
     "start_time": "2025-06-05T18:18:52.949112Z"
    }
   },
   "outputs": [],
   "source": [
    "# Preparing the experimental data and save them in a 1D array as y_exp_data\n",
    "SM_measured = []\n",
    "P_measured = []\n",
    "IMP_measured = []\n",
    "\n",
    "for i in range(0, 5):\n",
    "    SM_measured.append(df_raw.iloc[:, i * 4 + 1])\n",
    "    P_measured.append(df_raw.iloc[:, i * 4 + 2])\n",
    "    IMP_measured.append(df_raw.iloc[:, i * 4 + 3])\n",
    "\n",
    "\n",
    "non_nan_values_SM  = np.concatenate(SM_measured)\n",
    "non_nan_values_P   = np.concatenate(P_measured)\n",
    "non_nan_values_IMP = np.concatenate(IMP_measured)\n",
    "\n",
    "\n",
    "# # Calculate the measured_Y_without_Nan using non-NaN values arrays   \n",
    "# ******NOTE ******this is where we apply weighting factor\n",
    "# measured_Y_without_Nan =  non_nan_values_P +  non_nan_values_IMP\n",
    "measured_Y_without_Nan = 0.9* non_nan_values_P + 0.1*non_nan_values_SM + 0.1*non_nan_values_IMP\n",
    "nan_mask = jnp.isnan(measured_Y_without_Nan)\n",
    "y_without_nan = measured_Y_without_Nan[~nan_mask]\n",
    "\n",
    "# adding noise\n",
    "noise_level = 0.0001\n",
    "noise = np.random.normal(0, noise_level, y_without_nan.shape)\n",
    "y_exp_data = y_without_nan + noise\n",
    "X_dummy = X_measured\n",
    "Y_dummy = y_exp_data"
   ]
  },
  {
   "cell_type": "code",
   "execution_count": 7,
   "id": "964817fc",
   "metadata": {},
   "outputs": [
    {
     "name": "stdout",
     "output_type": "stream",
     "text": [
      "Best mechanism (by average probability in top 3): SM + B + R -> P + B,  P + B + R -> IMP2 + B\n",
      "Average probability per experiment: 0.23\n"
     ]
    }
   ],
   "source": [
    "# Load your CSV data into a DataFrame\n",
    "df = pd.read_csv(\"res_case study 1.csv\")\n",
    "\n",
    "# Step 1: Get top 3 mechanisms per experiment\n",
    "top_mechs = (\n",
    "    df.sort_values(['Experiment #', 'Probability'], ascending=[True, False])\n",
    "      .groupby('Experiment #')\n",
    "      .head(3)\n",
    ")\n",
    "\n",
    "# Step 2: Sum probabilities across experiments\n",
    "mech_avg = (\n",
    "    top_mechs.groupby('Mechanism')['Probability']\n",
    "             .mean()\n",
    "             .sort_values(ascending=False)\n",
    ")\n",
    "\n",
    "# Step 3: Get the mechanism with the highest average probability\n",
    "best_mechanism = mech_avg.idxmax()\n",
    "best_avg_probability = mech_avg.max()\n",
    "\n",
    "print(\"Best mechanism (by average probability in top 3):\", best_mechanism)\n",
    "print(\"Average probability per experiment:\", round(best_avg_probability, 2))\n"
   ]
  },
  {
   "cell_type": "code",
   "execution_count": null,
   "id": "68911dbe",
   "metadata": {},
   "outputs": [
    {
     "name": "stdout",
     "output_type": "stream",
     "text": [
      "{'rxn1': {'E_f': 70000,\n",
      "          'Rxn_orders_b': '',\n",
      "          'Rxn_orders_f': {'SM': 1, 'base': 1, 'reagent': 1},\n",
      "          'T_ref': 355.04999999999995,\n",
      "          'k_f': 0.1,\n",
      "          'products': {'base': 1, 'product': 1},\n",
      "          'reactants': {'SM': 1, 'base': 1, 'reagent': 1},\n",
      "          'reversible': False},\n",
      " 'rxn2': {'E_f': 70000.0,\n",
      "          'Rxn_orders_b': '',\n",
      "          'Rxn_orders_f': {'base': 1, 'product': 1, 'reagent': 1},\n",
      "          'T_ref': 355.04999999999995,\n",
      "          'k_f': 0.1,\n",
      "          'products': {'IMP1': 1},\n",
      "          'reactants': {'base': 1, 'product': 1, 'reagent': 1},\n",
      "          'reversible': False}}\n"
     ]
    }
   ],
   "source": [
    "import re\n",
    "from collections import defaultdict\n",
    "\n",
    "def parse_species(species_str):\n",
    "    \"\"\"Parses 'SM + B + R' into {'SM':1, 'base':1, 'reagent':1} using symbolic aliases.\"\"\"\n",
    "    species = [s.strip() for s in species_str.split('+')]\n",
    "    counts = defaultdict(int)\n",
    "    for s in species:\n",
    "        if s == 'R':\n",
    "            s = 'Reagent'\n",
    "        elif s == 'P':\n",
    "            s = 'product'\n",
    "        elif s == 'B':\n",
    "            s = 'Base'\n",
    "        elif s == 'SM':\n",
    "            s = 'SM'\n",
    "        elif s == 'INT1':\n",
    "            s = 'INT1'\n",
    "        elif re.fullmatch(r'IMP\\d+', s):\n",
    "            s = \"IMP1\"\n",
    "        elif s == 'C':\n",
    "            s = 'Catalyst'\n",
    "        counts[s] = 1\n",
    "    return dict(counts)\n",
    "\n",
    "def mechanism_to_rxn_template(\n",
    "        mechanism_str,\n",
    "        SM_order, reagent_order, base_order,\n",
    "        params\n",
    "    ):\n",
    "        reactions = [r.strip() for r in mechanism_str.split(',')]\n",
    "        rxn_template = {}\n",
    "\n",
    "        for i, reaction in enumerate(reactions):\n",
    "            lhs, rhs = [side.strip() for side in reaction.split('->')]\n",
    "            lhs_dict = parse_species(lhs)\n",
    "            rhs_dict = parse_species(rhs)   \n",
    "\n",
    "            # For some reason, base needs to be at the end of the dictionary or else everything breaks\n",
    "            # Changing the order of 'reagent' and 'base' in the initial_species or all_species dictionary in reaction_solver\n",
    "            # somehow breaks everything. Not entirely sure why\n",
    "            base_value = lhs_dict.pop('Base', None)\n",
    "            if base_value is not None:\n",
    "                lhs_dict['Base'] = base_value\n",
    "            # rhs_dict.pop('base', None)\n",
    "\n",
    "            rxn_key = f'rxn{i+1}'\n",
    "            k_f = params['k1_f'] if i == 0 else params['k2_f']\n",
    "            E_f = params['E1_f'] if i == 0 else params['E2_f']\n",
    "\n",
    "            rxn_orders_f = {}\n",
    "            \n",
    "            for species in lhs_dict:\n",
    "                if species == \"Reagent\" and reagent_order != 0:\n",
    "                    rxn_orders_f[species] = reagent_order\n",
    "                elif species == \"Base\" and base_order != 0:\n",
    "                    rxn_orders_f[species] = base_order\n",
    "                elif species == \"SM\" and SM_order != 0:\n",
    "                    rxn_orders_f[species] = SM_order\n",
    "                elif species == \"product\" and rxn_key == \"rxn2\":\n",
    "                    rxn_orders_f[species] = 1\n",
    "\n",
    "\n",
    "            rxn_template[rxn_key] = {\n",
    "                'reactants': lhs_dict,\n",
    "                'products': rhs_dict,\n",
    "                'k_f': k_f,\n",
    "                'E_f': E_f,\n",
    "                'reversible': False,\n",
    "                'T_ref': 273.15 + 81.9,\n",
    "                'Rxn_orders_f': rxn_orders_f,\n",
    "                'Rxn_orders_b': '',\n",
    "            }\n",
    "\n",
    "        return rxn_template\n",
    "\n",
    "\n",
    "\n",
    "# rxn_orders1 = {'SM': 1, 'reagent': 1}\n",
    "# rxn_orders2 = {'product': 1, 'reagent': 1}\n",
    "# rxns = mechanism_to_rxn_template(best_mechanism, 1, 1, 0)\n",
    "rxns = mechanism_to_rxn_template(best_mechanism, 1, 1, 0, ground_truth_params)\n",
    "# rxns = {\n",
    "#     'rxn1': {\n",
    "#         'reactants': {'SM': 1, 'reagent': 1, 'base':1},\n",
    "#         'products': {'product': 1, 'base': 1},\n",
    "#         'k_f': 0.1,\n",
    "#         'E_f': 70000,\n",
    "#         'reversible': False,  \n",
    "#         'T_ref':273.15+81.9,\n",
    "#         'Rxn_orders_f': {'SM':1, 'reagent': 1, 'base':1}, \n",
    "#         'Rxn_orders_b': '',\n",
    "#     },\n",
    "\n",
    "#     'rxn2': {   \n",
    "#         'reactants': {'product': 1, 'reagent': 1, 'base':1},\n",
    "#         'products': {'IMP1': 1},\n",
    "#         'k_f': 0.1,\n",
    "#         'E_f': 70E3,\n",
    "#         'reversible': False, \n",
    "#         'T_ref':273.15+81.9, \n",
    "#         'Rxn_orders_f': {'product':1, 'reagent': 1, 'base':1},\n",
    "#         'Rxn_orders_b': '', \n",
    "        \n",
    "#     }\n",
    "# }\n",
    "pprint(rxns)"
   ]
  },
  {
   "cell_type": "code",
   "execution_count": null,
   "id": "0dfe32cb",
   "metadata": {},
   "outputs": [
    {
     "name": "stdout",
     "output_type": "stream",
     "text": [
      "{'rxn1': {'E_f': 70000.0,\n",
      "          'Rxn_orders_b': '',\n",
      "          'Rxn_orders_f': {'SM': 1, 'base': 1, 'reagent': 1},\n",
      "          'T_ref': 355.04999999999995,\n",
      "          'k_f': 0.1,\n",
      "          'products': {'base': 1, 'product': 1},\n",
      "          'reactants': {'SM': 1, 'base': 1, 'reagent': 1},\n",
      "          'reversible': False},\n",
      " 'rxn2': {'E_f': 70000,\n",
      "          'Rxn_orders_b': '',\n",
      "          'Rxn_orders_f': {'SM': 1, 'base': 1, 'product': 1},\n",
      "          'T_ref': 355.04999999999995,\n",
      "          'k_f': 0.1,\n",
      "          'products': {'IMP2': 1, 'base': 1},\n",
      "          'reactants': {'SM': 1, 'base': 1, 'product': 1},\n",
      "          'reversible': False}}\n"
     ]
    }
   ],
   "source": [
    "rxns2 = mechanism_to_rxn_template(\"SM + B + R -> P + B,  SM + P + B -> IMP2 + B\", 1, 1, 1, ground_truth_params)\n",
    "# rxns2 = {\n",
    "#     'rxn1': {\n",
    "#         'reactants': {'SM': 1, 'reagent': 1, 'base':1},\n",
    "#         'products': {'product': 1, 'base':1},\n",
    "#         'k_f': 0.1,\n",
    "#         'E_f': 70E3,\n",
    "#         'reversible': False,  \n",
    "#         'T_ref':273.15+81.9,\n",
    "#         'Rxn_orders_f': {'SM':1, 'reagent': 1, 'base':1}, \n",
    "#         'Rxn_orders_b': '',\n",
    "#     },\n",
    "\n",
    "#     'rxn2': {\n",
    "#         'reactants': {'SM': 1, 'product': 1, 'base':1},\n",
    "#         'products': {'IMP2': 1, 'base':1},\n",
    "#         'k_f': 0.1,\n",
    "#         'E_f': 70000,\n",
    "#         'reversible': False, \n",
    "#         'T_ref':273.15+81.9, \n",
    "#         'Rxn_orders_f': {'SM':1, 'product': 1, 'base':1},\n",
    "#         'Rxn_orders_b': '', \n",
    "        \n",
    "#     }\n",
    "# }\n",
    "\n",
    "pprint(rxns2)"
   ]
  },
  {
   "cell_type": "code",
   "execution_count": 37,
   "id": "940f72640dada6f7",
   "metadata": {
    "ExecuteTime": {
     "end_time": "2025-06-05T19:10:32.943657Z",
     "start_time": "2025-06-05T19:10:32.936095Z"
    }
   },
   "outputs": [
    {
     "name": "stdout",
     "output_type": "stream",
     "text": [
      "Reaction:\n",
      "\n",
      "+----------+-----------------------------+-----+------------------+-------+---------+-------+-------+-------------+\n",
      "| Reaction | Reactants                   |     | Products         | k (f) | E (f)   | k (b) | E (b) | Reversible? |\n",
      "+----------+-----------------------------+-----+------------------+-------+---------+-------+-------+-------------+\n",
      "| rxn1     | 1SM + 1reagent + 1base      | --> | 1product + 1base | 0.1   | 70000   | 0     | 0     | False       |\n",
      "| rxn2     | 1product + 1reagent + 1base | --> | 1IMP1            | 0.1   | 70000.0 | 0     | 0     | False       |\n",
      "+----------+-----------------------------+-----+------------------+-------+---------+-------+-------+-------------+\n",
      "Reaction:\n",
      "\n",
      "+----------+------------------------+-----+------------------+-------+---------+-------+-------+-------------+\n",
      "| Reaction | Reactants              |     | Products         | k (f) | E (f)   | k (b) | E (b) | Reversible? |\n",
      "+----------+------------------------+-----+------------------+-------+---------+-------+-------+-------------+\n",
      "| rxn1     | 1SM + 1reagent + 1base | --> | 1product + 1base | 0.1   | 70000.0 | 0     | 0     | False       |\n",
      "| rxn2     | 1SM + 1product + 1base | --> | 1IMP2 + 1base    | 0.1   | 70000   | 0     | 0     | False       |\n",
      "+----------+------------------------+-----+------------------+-------+---------+-------+-------+-------------+\n",
      "{'rxn1': {'E_f': 70000.0,\n",
      "          'Rxn_orders_b': '',\n",
      "          'Rxn_orders_f': {'SM': 1, 'base': 1, 'reagent': 1},\n",
      "          'T_ref': 355.04999999999995,\n",
      "          'k_f': 0.1,\n",
      "          'products': {'base': 1, 'product': 1},\n",
      "          'reactants': {'SM': 1, 'base': 1, 'reagent': 1},\n",
      "          'reversible': False},\n",
      " 'rxn2': {'E_f': 70000,\n",
      "          'Rxn_orders_b': '',\n",
      "          'Rxn_orders_f': {'SM': 1, 'base': 1, 'product': 1},\n",
      "          'T_ref': 355.04999999999995,\n",
      "          'k_f': 0.1,\n",
      "          'products': {'IMP2': 1, 'base': 1},\n",
      "          'reactants': {'SM': 1, 'base': 1, 'product': 1},\n",
      "          'reversible': False}}\n"
     ]
    }
   ],
   "source": [
    "# reaction order check:\n",
    "# base order change\n",
    "reactions = [rxns, rxns2]\n",
    "\n",
    "# reactions = [\n",
    "# {\n",
    "#     'rxn1': {\n",
    "#         'reactants': {'SM': 1, 'reagent': 1, 'base':1},\n",
    "#         'products': {'product': 1},\n",
    "#         'k_f': 0.011,\n",
    "#         'E_f': 70200,\n",
    "#         'reversible': False,  \n",
    "#         'T_ref':273.15+81.9,\n",
    "#         'Rxn_orders_f': {'SM':1, 'reagent':1},\n",
    "#         'Rxn_orders_b': '',\n",
    "#     },\n",
    "\n",
    "#     'rxn2': {   \n",
    "#         'reactants': {'product': 1, 'reagent': 1, 'base':1},\n",
    "#         'products': {'IMP1': 1},\n",
    "#         'k_f': 0.002,\n",
    "#         'E_f': 78920,\n",
    "#         'reversible': False, \n",
    "#         'T_ref':273.15+81.9, \n",
    "#         'Rxn_orders_f': {'product':1, 'reagent': 1},\n",
    "#         'Rxn_orders_b': '', \n",
    "        \n",
    "#     }\n",
    "# }\n",
    "# ,\n",
    "\n",
    "# {\n",
    "#     'rxn1': {\n",
    "#         'reactants': {'SM': 1, 'reagent': 1, 'base':1},\n",
    "#         'products': {'product': 1},\n",
    "#         'k_f': 0.01,\n",
    "#         'E_f': 70E3,\n",
    "#         'reversible': False,  \n",
    "#         'T_ref':273.15+81.9,\n",
    "#         'Rxn_orders_f': {'reagent':1}, \n",
    "#         'Rxn_orders_b': '',\n",
    "#     },\n",
    "\n",
    "#     'rxn2': {   \n",
    "#         'reactants': {'product': 1, 'reagent': 1, 'base':1},\n",
    "#         'products': {'IMP1': 1},\n",
    "#         'k_f': 0.002,\n",
    "#         'E_f': 78E3,\n",
    "#         'reversible': False, \n",
    "#         'T_ref':273.15+81.9, \n",
    "#         'Rxn_orders_f': {'reagent': 1, 'product':1},\n",
    "#         'Rxn_orders_b': '', \n",
    "        \n",
    "#     }\n",
    "# }\n",
    "# ]\n",
    "\n",
    "# initial_species = list(reactions[0]['rxn1']['reactants'].keys())\n",
    "# reactions_list = []\n",
    "\n",
    "# for i, reaction_data in enumerate(reactions, start=1):\n",
    "#     reaction_solver = SymbolicRXNSolver(reaction_data)\n",
    "#     reaction_solver.reaction_table()\n",
    "#     reactions_list.append(reaction_solver)\n",
    "\n",
    "initial_species = [\"SM\", \"Base\", \"Reagent\"]\n",
    "reactions_list = []\n",
    "\n",
    "for i, reaction_data in enumerate(reactions, start=1):\n",
    "    reaction_solver = SymbolicRXNSolver(reaction_data)\n",
    "    reaction_solver.reaction_table()\n",
    "    reactions_list.append(reaction_solver)\n",
    "\n",
    "pprint(rxns2)\n",
    "# print(reactions[1])\n",
    "# reactions_exp = reaction1_1.write_reaction_rate_expressions()\n",
    "# for reaction_name in reactions_exp.items():\n",
    "#     print(f\"{reaction_name}\")"
   ]
  },
  {
   "cell_type": "code",
   "execution_count": 38,
   "id": "497854df8f057949",
   "metadata": {
    "ExecuteTime": {
     "end_time": "2025-06-05T18:18:57.321550Z",
     "start_time": "2025-06-05T18:18:57.312868Z"
    }
   },
   "outputs": [],
   "source": [
    "import math\n",
    "def _new_priors2():\n",
    "    k1_f = numpyro.sample(\"k1_f\", dist.LogNormal(abs(math.log(0.1)), 1))\n",
    "    E1_f = numpyro.sample(\"E1_f\", dist.Normal(abs(math.log(70000)), 1))\n",
    "    k2_f = numpyro.sample(\"k2_f\", dist.LogNormal(abs(math.log(0.1)), 1))\n",
    "    E2_f = numpyro.sample(\"E2_f\", dist.Normal(abs(math.log(70000)), 1))\n",
    "    return {\"k1_f\": k1_f,\n",
    "            \"E1_f\": E1_f,\n",
    "            \"k2_f\": k2_f,  \n",
    "            \"E2_f\": E2_f}\n"
   ]
  },
  {
   "cell_type": "code",
   "execution_count": 39,
   "id": "81d672d97748c523",
   "metadata": {
    "ExecuteTime": {
     "end_time": "2025-06-05T18:18:58.320035Z",
     "start_time": "2025-06-05T18:18:58.312016Z"
    }
   },
   "outputs": [],
   "source": [
    "# def _new_priors3():\n",
    "#     k1_f = numpyro.sample(\"k1_f\", dist.Normal(4.46, 0.02))\n",
    "#     E1_f = numpyro.sample(\"E1_f\", dist.TruncatedNormal(11, 1, low=10, high=11.6)) \n",
    "#     k2_f = numpyro.sample(\"k2_f\", dist.Normal(6.01,  0.07))\n",
    "#     E2_f = numpyro.sample(\"E2_f\", dist.TruncatedNormal(11, 1, low=10, high=11.6))\n",
    "#     return {\"k1_f\": k1_f,\n",
    "#             \"E1_f\": E1_f,\n",
    "#             \"k2_f\": k2_f,\n",
    "#             \"E2_f\": E2_f}\n",
    "\n",
    "\n",
    "def _new_priors3():\n",
    "    k1_f = numpyro.sample(\"k1_f\", dist.Normal(4.46, 0.02))\n",
    "    E1_f = numpyro.sample(\"E1_f\", dist.TruncatedNormal(11, 1, low=10, high=11.6)) \n",
    "    k2_f = numpyro.sample(\"k2_f\", dist.Normal(6.01,  0.07))\n",
    "    E2_f = numpyro.sample(\"E2_f\", dist.TruncatedNormal(11, 1, low=10, high=11.6))\n",
    "    return {\"k1_f\": k1_f,\n",
    "            \"E1_f\": E1_f,\n",
    "            \"k2_f\": k2_f,\n",
    "            \"E2_f\": E2_f}"
   ]
  },
  {
   "cell_type": "code",
   "execution_count": 40,
   "id": "eeb09c0565be3b69",
   "metadata": {
    "ExecuteTime": {
     "end_time": "2025-06-05T18:20:15.512148Z",
     "start_time": "2025-06-05T18:19:01.807330Z"
    }
   },
   "outputs": [
    {
     "name": "stderr",
     "output_type": "stream",
     "text": [
      "sample: 100%|██████████| 300/300 [00:13<00:00, 21.88it/s, 16 steps of size 1.28e-01. acc. prob=0.81] \n",
      "sample: 100%|██████████| 300/300 [00:08<00:00, 36.87it/s, 1 steps of size 2.21e-01. acc. prob=0.25]  \n"
     ]
    }
   ],
   "source": [
    "# BI_reaction1 = BayesianKineticAI()\n",
    "# BI_model = BI_reaction1.run_bayesian_inference(function = reaction1_1.simulate_symbolic_ode_for_numpyro,\n",
    "#     priors = _new_priors2,\n",
    "#     X= X_dummy[12:24],\n",
    "#     Y= Y_dummy[12:24],\n",
    "#     num_samples=2000,\n",
    "#     num_warmup=1000)\n",
    "time = jnp.array([0.0, 15.0, 30.0, 45.0, 60.0, 90.0, 120.0, 180.0, 240.0, 360.0, 480.0, 540.0, 600.0, 780.0, 900.0, 960.0, 1207.0, 1374.0])\n",
    "t = jnp.array([0.0, 15.0, 30.0, 45.0, 60.0, 90.0, 120.0, 180.0, 240.0, 360.0, 540.0, 900.0])\n",
    "\n",
    "modelList = []\n",
    "KAIList = []\n",
    "for reaction in reactions_list:\n",
    "    reaction.initilize_ODE_solver_for_numpyro_input(X_dummy, t, initial_species, [0.1,0,0,0.9,0.1])\n",
    "    BI_reaction = BayesianKineticAI()\n",
    "    BI_model = BI_reaction.run_bayesian_inference(function = reaction.simulate_symbolic_ode_for_numpyro,\n",
    "        priors = _new_priors2,\n",
    "        X= X_dummy[:12],\n",
    "        Y= Y_dummy[:12],\n",
    "        num_samples=200,\n",
    "        num_warmup=100)\n",
    "    KAIList.append(BI_reaction)\n",
    "    modelList.append(BI_model)\n"
   ]
  },
  {
   "cell_type": "code",
   "execution_count": 41,
   "id": "bd1e7c2d",
   "metadata": {},
   "outputs": [],
   "source": [
    "model_dict = {i: item for i, item in enumerate(modelList)}\n",
    "# model_dict = {'0': modelList[0]}"
   ]
  },
  {
   "cell_type": "code",
   "execution_count": 42,
   "id": "86caa9d3d788966b",
   "metadata": {},
   "outputs": [
    {
     "name": "stderr",
     "output_type": "stream",
     "text": [
      "C:\\Users\\MalakM02\\AppData\\Local\\Packages\\PythonSoftwareFoundation.Python.3.13_qbz5n2kfra8p0\\LocalCache\\local-packages\\Python313\\site-packages\\arviz\\stats\\stats.py:1655: UserWarning: For one or more samples the posterior variance of the log predictive densities exceeds 0.4. This could be indication of WAIC starting to fail. \n",
      "See http://arxiv.org/abs/1507.04544 for details\n",
      "  warnings.warn(\n"
     ]
    },
    {
     "name": "stdout",
     "output_type": "stream",
     "text": [
      "   rank  elpd_waic    p_waic  elpd_diff  weight        se       dse  warning  \\\n",
      "1     0  52.105698  1.301187   0.000000     1.0  1.139722  0.000000     True   \n",
      "0     1  49.480703  2.022979   2.624995     0.0  2.350428  1.260061     True   \n",
      "\n",
      "  scale  \n",
      "1   log  \n",
      "0   log  \n"
     ]
    },
    {
     "name": "stderr",
     "output_type": "stream",
     "text": [
      "C:\\Users\\MalakM02\\AppData\\Local\\Packages\\PythonSoftwareFoundation.Python.3.13_qbz5n2kfra8p0\\LocalCache\\local-packages\\Python313\\site-packages\\arviz\\stats\\stats.py:1655: UserWarning: For one or more samples the posterior variance of the log predictive densities exceeds 0.4. This could be indication of WAIC starting to fail. \n",
      "See http://arxiv.org/abs/1507.04544 for details\n",
      "  warnings.warn(\n"
     ]
    }
   ],
   "source": [
    "if len(model_dict) > 1:\n",
    "    compare_df = az.compare(model_dict, ic=\"waic\")\n",
    "    print(compare_df)\n",
    "    best_model_name = compare_df.index[0]\n",
    "else:\n",
    "    best_model_name = 0\n",
    "\n",
    "BI_model = modelList[best_model_name]\n",
    "BI_reaction1 = KAIList[best_model_name]\n",
    "reaction1_1 = reactions_list[best_model_name]\n",
    "\n",
    "BI_model = modelList[0]\n",
    "BI_reaction1 = KAIList[0]"
   ]
  },
  {
   "cell_type": "code",
   "execution_count": 253,
   "id": "6406b0266567c00c",
   "metadata": {
    "ExecuteTime": {
     "end_time": "2025-06-05T18:23:26.368176Z",
     "start_time": "2025-06-05T18:23:26.344647Z"
    }
   },
   "outputs": [],
   "source": [
    "input_new = jnp.concatenate([input_matrix.T, np.zeros((5, 1))], axis=1)\n"
   ]
  },
  {
   "cell_type": "code",
   "execution_count": 254,
   "id": "26e81fcb",
   "metadata": {},
   "outputs": [],
   "source": [
    "reaction1_1.initilize_ODE_solver_for_numpyro_input(input_new, time, initial_species, [0.1,0,0,0.9,0.1])"
   ]
  },
  {
   "cell_type": "code",
   "execution_count": 255,
   "id": "85c55528906fd7f4",
   "metadata": {
    "ExecuteTime": {
     "end_time": "2025-06-05T18:28:09.855059Z",
     "start_time": "2025-06-05T18:28:09.643506Z"
    }
   },
   "outputs": [],
   "source": [
    "y_predicted_all = BI_reaction1.bayesian_inference_predict(BI_model,\n",
    "                                        function = reaction1_1.simulate_symbolic_ode_for_numpyro_C_out,\n",
    "                                        priors = _new_priors2,\n",
    "                                        X= input_new,\n",
    "                                        num_samples=2000,\n",
    "                                        num_warmup=1000)"
   ]
  },
  {
   "cell_type": "code",
   "execution_count": 154,
   "id": "1d3fed890759c269",
   "metadata": {
    "ExecuteTime": {
     "end_time": "2025-06-05T18:21:52.756054Z",
     "start_time": "2025-06-05T18:21:52.737364Z"
    }
   },
   "outputs": [],
   "source": [
    "C_out, names = reaction1_1.simulate_symbolic_ode_(input_new, ground_truth_params, time, initial_species)"
   ]
  },
  {
   "cell_type": "code",
   "execution_count": 256,
   "id": "9277a8bf04f6fbf9",
   "metadata": {
    "ExecuteTime": {
     "end_time": "2025-06-05T18:28:17.860612Z",
     "start_time": "2025-06-05T18:28:10.950861Z"
    }
   },
   "outputs": [
    {
     "name": "stdout",
     "output_type": "stream",
     "text": [
      "Difference:  -0.1843944787979126\n",
      "Difference:  -0.18856729567050934\n",
      "Difference:  -0.204000324010849\n",
      "Difference:  -0.13608518242835999\n",
      "Difference:  -0.1693328320980072\n"
     ]
    },
    {
     "name": "stderr",
     "output_type": "stream",
     "text": [
      "C:\\Users\\MalakM02\\AppData\\Local\\Temp\\ipykernel_12772\\1653199571.py:44: UserWarning: Tight layout not applied. tight_layout cannot make Axes height small enough to accommodate all Axes decorations.\n",
      "  plt.tight_layout()\n"
     ]
    },
    {
     "data": {
      "image/png": "[encoded data removed]",
      "text/plain": [
       "<Figure size 1000x1000 with 5 Axes>"
      ]
     },
     "metadata": {},
     "output_type": "display_data"
    }
   ],
   "source": [
    "import matplotlib.pyplot as plt\n",
    "plt.figure(figsize=(10, 10))\n",
    "\n",
    "# subplot_index = 1\n",
    "Sanofi_color = ['#23004C', '#268500', '#7A00E6']\n",
    "\n",
    "subplot_index_2 = 1\n",
    "for i in range(0, 5):\n",
    "    plt.subplot(3, 2, subplot_index_2)\n",
    "    subplot_index_2 += 1\n",
    "    # plt.plot(time, C_out[:, i, -1], color=Sanofi_color[1], linewidth=2, label='ODE model - P')\n",
    "    # plt.plot(time, C_out[:, i, 0], color=Sanofi_color[0], linewidth=2, label='ODE model - SM')\n",
    "    # plt.plot(time, C_out[:, i, -2], color=Sanofi_color[2], linewidth=2, label='ODE model - IMP')\n",
    "    # print(\"Impurity: \", C_out[-1, i, 4])\n",
    "    # print(\"Product: \", C_out[-1, i, 3])\n",
    "    print(\"Difference: \", float(C_out[-1, i, 3] - C_out[-1,i,4]))\n",
    "    plt.scatter(df_raw.iloc[:, i * 4], df_raw.iloc[:, i * 4 + 2], label='Product-Exp', s=60, color=Sanofi_color[2],  zorder=10)\n",
    "    plt.scatter(df_raw.iloc[:, i * 4], df_raw.iloc[:, i * 4 + 1], label='Starting Material-Exp', s=60, color=Sanofi_color[0], zorder=10)\n",
    "    plt.scatter(df_raw.iloc[:, i * 4], df_raw.iloc[:, i * 4 + 3], label='Impurity-Exp', s=60, color=Sanofi_color[1],  zorder=10)\n",
    "    plt.xlabel('Time [min]')\n",
    "    plt.ylabel('Concentration [mM]')\n",
    "\n",
    "subplot_index = 1\n",
    "Sanofi_color = ['#23004C', '#268500', '#7A00E6']\n",
    "mean_predicted = []\n",
    "for i in range(0, 5):\n",
    "    plt.subplot(3, 2, subplot_index)\n",
    "    subplot_index += 1\n",
    "    # for j in range(300):\n",
    "    #     plt.plot(time, y_predicted_all[j][:, i, 0], color=Sanofi_color[0], linewidth=1, alpha=0.01)\n",
    "    #     plt.plot(time, y_predicted_all[j][:, i, -2], color=Sanofi_color[2], linewidth=1, alpha=0.01)\n",
    "    #     plt.plot(time, y_predicted_all[j][:, i, -1], color=Sanofi_color[1], linewidth=1, alpha=0.01)\n",
    "    mean_predicted = np.mean([y_predicted_all[j][:, i] for j in range(len(y_predicted_all))], axis=0)\n",
    "\n",
    "\n",
    "    plt.plot(time, mean_predicted[:, 0], color='red', linewidth=2, linestyle='--', label='Mean BI prediction')\n",
    "    plt.plot(time, mean_predicted[:, -1], color='red', linewidth=2, linestyle='--')\n",
    "    plt.plot(time, mean_predicted[:, -2], color='red', linewidth=2, linestyle='--')\n",
    "\n",
    "\n",
    "\n",
    "    if i==4:\n",
    "        plt.legend(loc='center left', bbox_to_anchor=(1,4))\n",
    "plt.tight_layout()\n",
    "plt.show()\n"
   ]
  },
  {
   "cell_type": "code",
   "execution_count": 188,
   "id": "0af4d996",
   "metadata": {},
   "outputs": [
    {
     "name": "stdout",
     "output_type": "stream",
     "text": [
      "Site: E1_f\n",
      "        mean       std        5%        25%        50%        75%        95%\n",
      "0  11.133801  0.970318  9.568366  10.494024  11.120966  11.783592  12.751753 \n",
      "\n",
      "Site: E2_f\n",
      "        mean       std       5%        25%        50%        75%        95%\n",
      "0  11.164776  1.005874  9.52984  10.483469  11.139107  11.862221  12.803187 \n",
      "\n",
      "Site: k1_f\n",
      "       mean       std        5%       25%       50%       75%       95%\n",
      "0  4.405966  0.041613  4.351008  4.385074  4.404036  4.424098  4.460266 \n",
      "\n",
      "Site: k2_f\n",
      "       mean       std       5%       25%       50%       75%       95%\n",
      "0  6.008748  0.278674  5.86241  5.943253  5.989173  6.035878  6.128057 \n",
      "\n",
      "Site: sigma\n",
      "       mean       std        5%       25%       50%       75%       95%\n",
      "0  0.003019  0.001565  0.001657  0.002152  0.002659  0.003421  0.005241 \n",
      "\n"
     ]
    }
   ],
   "source": [
    "hmc_samples = BI_model.get_samples().items()\n",
    "def summary(samples):\n",
    "    site_stats = {}\n",
    "    for site_name, values in samples:\n",
    "        marginal_site = pd.DataFrame(values)\n",
    "        describe = marginal_site.describe(percentiles=[.05, 0.25, 0.5, 0.75, 0.95]).transpose()\n",
    "        site_stats[site_name] = describe[[\"mean\", \"std\", \"5%\", \"25%\", \"50%\", \"75%\", \"95%\"]]\n",
    "    return site_stats\n",
    "for site, values in summary(hmc_samples).items():\n",
    "    print(\"Site: {}\".format(site))\n",
    "    print(values, \"\\n\")"
   ]
  },
  {
   "cell_type": "code",
   "execution_count": 51,
   "id": "76551ef1",
   "metadata": {},
   "outputs": [
    {
     "name": "stdout",
     "output_type": "stream",
     "text": [
      "{'E1_f': Array(69483.05, dtype=float32), 'E2_f': Array(72597.04, dtype=float32), 'k1_f': Array(0.01435824, dtype=float32), 'k2_f': Array(0.00064834, dtype=float32)}\n"
     ]
    }
   ],
   "source": [
    "import jax.numpy as jnp\n",
    "\n",
    "site_stats = summary(hmc_samples)\n",
    "exp_means = {}\n",
    "for site, stats in site_stats.items():\n",
    "    if site == \"sigma\":\n",
    "        continue  # skip sigma\n",
    "    \n",
    "    mean = stats.loc[0, \"mean\"]\n",
    "    \n",
    "    if site.startswith(\"k\"):  # apply negative exponent to k values\n",
    "        exp_means[site] = jnp.exp(-mean)\n",
    "    else:\n",
    "        exp_means[site] = jnp.exp(mean)\n",
    "\n",
    "print(exp_means)"
   ]
  },
  {
   "cell_type": "code",
   "execution_count": 52,
   "id": "26221cc7",
   "metadata": {},
   "outputs": [
    {
     "name": "stdout",
     "output_type": "stream",
     "text": [
      "0.14417244\n",
      "0.12931755\n"
     ]
    }
   ],
   "source": [
    "mean_predicted = np.mean([y_predicted_all[j] for j in range(len(y_predicted_all))], axis=0)\n",
    "print(mean_predicted[-1,0,3])\n",
    "# print(mean_predicted)\n",
    "print(C_out[-1,0,3])"
   ]
  },
  {
   "cell_type": "code",
   "execution_count": 63,
   "id": "21592c3d",
   "metadata": {},
   "outputs": [],
   "source": [
    "exp_means = {\n",
    "    \"k1_f\": 0.012,\n",
    "    \"E1_f\": 67420.656,\n",
    "    \"k2_f\": 0.002,\n",
    "    \"E2_f\": 70459.555\n",
    "}"
   ]
  },
  {
   "cell_type": "code",
   "execution_count": null,
   "id": "f7e31a81",
   "metadata": {},
   "outputs": [],
   "source": [
    "from skopt import Optimizer\n",
    "import math\n",
    "\n",
    "def objective(x):  # x = [temperature, init_SM, init_reagent, init_base, ...]\n",
    "    # Run the simulation\n",
    "    # C_out, names = reaction1_1.simulate_symbolic_ode_(x, ground_truth_params, time, initial_species)\n",
    "    C_out, names = reaction1_1.simulate_symbolic_ode_(x, exp_means, time, initial_species)\n",
    "    final_product_conc = C_out[-1,0,3]\n",
    "    impurity = jnp.sum(C_out[-1,0,4:])\n",
    "    total_conc = jnp.sum(C_out[-1, 0])\n",
    "\n",
    "    if total_conc > 0 and (impurity / total_conc) >= 0.05:\n",
    "        print(\"here\")\n",
    "        return 1e6\n",
    "    \n",
    "    \n",
    "    loss = -final_product_conc + impurity\n",
    "    if math.isnan(loss):\n",
    "        print(x)\n",
    "        print(C_out)\n",
    "    # Return negative to maximize (BO minimizes by default)\n",
    "    return float(loss)\n"
   ]
  },
  {
   "cell_type": "code",
   "execution_count": 71,
   "id": "879785d4",
   "metadata": {},
   "outputs": [
    {
     "name": "stdout",
     "output_type": "stream",
     "text": [
      "here\n",
      "here\n",
      "here\n",
      "here\n",
      "here\n",
      "here\n",
      "here\n",
      "here\n",
      "here\n",
      "here\n",
      "here\n",
      "here\n",
      "here\n",
      "here\n"
     ]
    }
   ],
   "source": [
    "# search_space = [\n",
    "#     (50, 120.0),   # Temperature (°C)\n",
    "#     (0.0, 0.209),      # Initial [SM]\n",
    "#     (0.0, 0.4),      # Initial [Reagent]\n",
    "#     (0.0, 0.811),      # Initial (base)\n",
    "# ]\n",
    "\n",
    "search_space = [\n",
    "    (50, 120.0),   # Temperature (°C)\n",
    "    (0.0, 2),      # Initial [SM]\n",
    "    (0.0, 2),      # Initial [Reagent]\n",
    "    (0.0, 2),      # Initial (base)\n",
    "]\n",
    "\n",
    "opt = Optimizer(search_space, base_estimator='GP', acq_func='EI')\n",
    "\n",
    "for _ in range(100):\n",
    "    x_orig = opt.ask()\n",
    "    x = jnp.array(x_orig)\n",
    "    x_with_zero = jnp.append(x, 0)\n",
    "    x = x_with_zero[None, :]\n",
    "    y = objective(x)\n",
    "    opt.tell(x_orig, y)\n",
    "\n",
    "best_input = opt.Xi[np.argmin(opt.yi)]\n",
    "best_output = -min(opt.yi)  # max product\n"
   ]
  },
  {
   "cell_type": "code",
   "execution_count": 73,
   "id": "3085b30c",
   "metadata": {},
   "outputs": [
    {
     "name": "stdout",
     "output_type": "stream",
     "text": [
      "Best input: [86.49470524143301, 2.0, 0.9957727253451859, 2.0]\n",
      "Final product concentration: 0.88794196\n",
      "Final impurity concentration: 0.05391548\n",
      "Difference:  0.83402646\n",
      "Total conc:  3.0042276\n",
      "Percentage:  1.7946535 %\n"
     ]
    }
   ],
   "source": [
    "x = best_input\n",
    "# x = [68.8, 2, 1, 2]\n",
    "x = jnp.array(x)\n",
    "x_with_zero = jnp.append(x, 0)  # append a 0 to the end\n",
    "x = x_with_zero[None, :]\n",
    "C_out, names = reaction1_1.simulate_symbolic_ode_(x, exp_means, time, initial_species)\n",
    "base_final_product = C_out[-1, 0, 3]\n",
    "impurity = C_out[-1, 0, 4]\n",
    "total_conc = jnp.sum(C_out[-1, 0])\n",
    "\n",
    "\n",
    "print(\"Best input:\", best_input)\n",
    "print(\"Final product concentration:\", base_final_product)\n",
    "print(\"Final impurity concentration:\", impurity)\n",
    "print(\"Difference: \", base_final_product - impurity)\n",
    "print(\"Total conc: \", total_conc)\n",
    "print(\"Percentage: \", 100*(impurity/total_conc), \"%\")"
   ]
  },
  {
   "cell_type": "code",
   "execution_count": null,
   "id": "5733249a",
   "metadata": {},
   "outputs": [
    {
     "name": "stdout",
     "output_type": "stream",
     "text": [
      "Set x[0, 0] = 0 --> Final product: 0.0010 | difference = -0.1584\n",
      "Set x[0, 1] = 0 --> Final product: 0.0000 | difference = -0.1594\n",
      "Set x[0, 2] = 0 --> Final product: 0.0000 | difference = -0.1594\n",
      "Set x[0, 3] = 0 --> Final product: 0.1431 | difference = -0.0163\n",
      "Set x[0, 4] = 0 --> Final product: 0.1431 | difference = -0.0163\n"
     ]
    }
   ],
   "source": [
    "for i in range(x.shape[1]):\n",
    "    x_modified = x.at[0, i].set(0)  # set element at row 0, column i to 0\n",
    "\n",
    "    C_out_mod, _ = reaction1_1.simulate_symbolic_ode_(\n",
    "        x_modified, ground_truth_params, time, initial_species\n",
    "    )\n",
    "    \n",
    "    modified_product = C_out_mod[-1, 0, 3]\n",
    "    diff = modified_product - base_final_product\n",
    "\n",
    "    print(f\"Set x[0, {i}] = 0 --> Final product: {modified_product:.4f} | difference = {diff:.4f}\")"
   ]
  },
  {
   "cell_type": "code",
   "execution_count": null,
   "id": "86a66ddf",
   "metadata": {},
   "outputs": [
    {
     "name": "stdout",
     "output_type": "stream",
     "text": [
      "dProduct/dParam = 0.0020 | Relative sensitivity = 0.9608\n",
      "\n",
      "dProduct/dParam = 0.6881 | Relative sensitivity = 1.0252\n",
      "\n",
      "dProduct/dParam = 0.0939 | Relative sensitivity = 0.2677\n",
      "\n",
      "dProduct/dParam = 0.0004 | Relative sensitivity = 0.0021\n",
      "\n",
      "dProduct/dParam = 0.8234 | Relative sensitivity = 0.0000\n",
      "\n"
     ]
    }
   ],
   "source": [
    "epsilon = 1e-4  # small perturbation\n",
    "\n",
    "base_output = base_final_product  # From the original full simulation\n",
    "\n",
    "for i in range(x.shape[1]):\n",
    "    x_plus = x.at[0, i].set(x[0, i] + epsilon)\n",
    "    x_minus = x.at[0, i].set(x[0, i] - epsilon)\n",
    "\n",
    "    C_plus, _ = reaction1_1.simulate_symbolic_ode_(x_plus, exp_means, time, initial_species)\n",
    "    C_minus, _ = reaction1_1.simulate_symbolic_ode_(x_minus, exp_means, time, initial_species)\n",
    "\n",
    "    product_plus = C_plus[-1, 0, 3]\n",
    "    product_minus = C_minus[-1, 0, 3]\n",
    "\n",
    "    derivative = (product_plus - product_minus) / (2 * epsilon)\n",
    "    relative_sensitivity = (derivative * x[0, i]) / base_output\n",
    "\n",
    "    print(f\"dProduct/dParam = {derivative:.4f} | Relative sensitivity = {relative_sensitivity:.4f}\\n\")\n"
   ]
  },
  {
   "cell_type": "code",
   "execution_count": null,
   "id": "1ebfcc85",
   "metadata": {},
   "outputs": [],
   "source": [
    "reaction1_1.initilize_ODE_solver_for_numpyro_input(x, time, initial_species, [0.1,0,0,0.8,0.1])\n",
    "y_predicted_all = BI_reaction1.bayesian_inference_predict(BI_model,\n",
    "                                        function = reaction1_1.simulate_symbolic_ode_for_numpyro_C_out,\n",
    "                                        priors = _new_priors3,\n",
    "                                        X= x,\n",
    "                                        num_samples=2000,\n",
    "                                        num_warmup=1000)"
   ]
  },
  {
   "cell_type": "code",
   "execution_count": null,
   "id": "19d9e604",
   "metadata": {},
   "outputs": [
    {
     "data": {
      "text/plain": [
       "[<matplotlib.lines.Line2D at 0x258bc0839d0>]"
      ]
     },
     "execution_count": 30,
     "metadata": {},
     "output_type": "execute_result"
    },
    {
     "data": {
      "image/png": "[encoded data removed]",
      "text/plain": [
       "<Figure size 640x480 with 1 Axes>"
      ]
     },
     "metadata": {},
     "output_type": "display_data"
    }
   ],
   "source": [
    "plt.plot(time, C_out[:, 0, -1], color=Sanofi_color[1], linewidth=2, label='ODE model - P')\n",
    "plt.plot(time, C_out[:, 0, 0], color=Sanofi_color[0], linewidth=2, label='ODE model - SM')\n",
    "plt.plot(time, C_out[:, 0, -2], color=Sanofi_color[2], linewidth=2, label='ODE model - IMP')\n",
    "\n",
    "# for j in range(300):\n",
    "#     plt.plot(time, y_predicted_all[j][:, 0, 0], color=Sanofi_color[0], linewidth=1, alpha=0.01)\n",
    "#     plt.plot(time, y_predicted_all[j][:, 0, -2], color=Sanofi_color[2], linewidth=1, alpha=0.01)\n",
    "#     plt.plot(time, y_predicted_all[j][:, 0, -1], color=Sanofi_color[1], linewidth=1, alpha=0.01)\n",
    "# mean_predicted = np.mean([y_predicted_all[j][:, i] for j in range(len(y_predicted_all))], axis=0)\n",
    "\n",
    "\n",
    "# plt.plot(time, mean_predicted[:, 0], color='red', linewidth=2, linestyle='--', label='Mean BI prediction')\n",
    "# plt.plot(time, mean_predicted[:, -1], color='red', linewidth=2, linestyle='--')\n",
    "# plt.plot(time, mean_predicted[:, -2], color='red', linewidth=2, linestyle='--')"
   ]
  },
  {
   "cell_type": "code",
   "execution_count": null,
   "id": "03e71a4f",
   "metadata": {},
   "outputs": [
    {
     "ename": "TypeError",
     "evalue": "'dict_items' object is not subscriptable",
     "output_type": "error",
     "traceback": [
      "\u001b[31m---------------------------------------------------------------------------\u001b[39m",
      "\u001b[31mTypeError\u001b[39m                                 Traceback (most recent call last)",
      "\u001b[36mCell\u001b[39m\u001b[36m \u001b[39m\u001b[32mIn[31]\u001b[39m\u001b[32m, line 1\u001b[39m\n\u001b[32m----> \u001b[39m\u001b[32m1\u001b[39m hmc_samples_array = np.array([\u001b[43mhmc_samples\u001b[49m\u001b[43m[\u001b[49m\u001b[43mvar_name\u001b[49m\u001b[43m]\u001b[49m \u001b[38;5;28;01mfor\u001b[39;00m var_name \u001b[38;5;129;01min\u001b[39;00m [\u001b[33m\"\u001b[39m\u001b[33mE1_f\u001b[39m\u001b[33m\"\u001b[39m, \u001b[33m\"\u001b[39m\u001b[33mE2_f\u001b[39m\u001b[33m\"\u001b[39m, \u001b[33m\"\u001b[39m\u001b[33mk1_f\u001b[39m\u001b[33m\"\u001b[39m, \u001b[33m\"\u001b[39m\u001b[33mk2_f\u001b[39m\u001b[33m\"\u001b[39m]]).T\n\u001b[32m      3\u001b[39m ground_truth_array = np.array([ground_truth_params[var_name] \u001b[38;5;28;01mfor\u001b[39;00m var_name \u001b[38;5;129;01min\u001b[39;00m [\u001b[33m\"\u001b[39m\u001b[33mE1_f\u001b[39m\u001b[33m\"\u001b[39m, \u001b[33m\"\u001b[39m\u001b[33mE2_f\u001b[39m\u001b[33m\"\u001b[39m, \u001b[33m\"\u001b[39m\u001b[33mk1_f\u001b[39m\u001b[33m\"\u001b[39m, \u001b[33m\"\u001b[39m\u001b[33mk2_f\u001b[39m\u001b[33m\"\u001b[39m]])\n\u001b[32m      5\u001b[39m figure = corner.corner(\n\u001b[32m      6\u001b[39m     hmc_samples_array,\n\u001b[32m      7\u001b[39m     labels=[\u001b[33m\"\u001b[39m\u001b[33mE1_f\u001b[39m\u001b[33m\"\u001b[39m, \u001b[33m\"\u001b[39m\u001b[33mE2_f\u001b[39m\u001b[33m\"\u001b[39m, \u001b[33m\"\u001b[39m\u001b[33mk1_f\u001b[39m\u001b[33m\"\u001b[39m, \u001b[33m\"\u001b[39m\u001b[33mk2_f\u001b[39m\u001b[33m\"\u001b[39m],\n\u001b[32m   (...)\u001b[39m\u001b[32m     11\u001b[39m     truth_color=\u001b[33m\"\u001b[39m\u001b[33mGreen\u001b[39m\u001b[33m\"\u001b[39m\n\u001b[32m     12\u001b[39m )\n",
      "\u001b[31mTypeError\u001b[39m: 'dict_items' object is not subscriptable"
     ]
    }
   ],
   "source": [
    "hmc_samples_array = np.array([hmc_samples[var_name] for var_name in [\"E1_f\", \"E2_f\", \"k1_f\", \"k2_f\"]]).T\n",
    "\n",
    "ground_truth_array = np.array([ground_truth_params[var_name] for var_name in [\"E1_f\", \"E2_f\", \"k1_f\", \"k2_f\"]])\n",
    "\n",
    "figure = corner.corner(\n",
    "    hmc_samples_array,\n",
    "    labels=[\"E1_f\", \"E2_f\", \"k1_f\", \"k2_f\"],\n",
    "    range=[(9,12), (9, 12), (4.2, 4.7), (5, 7)], \n",
    "    color='purple',\n",
    "    truths=ground_truth_array,\n",
    "    truth_color=\"Green\"\n",
    ")"
   ]
  },
  {
   "cell_type": "code",
   "execution_count": 9,
   "id": "416e28f2",
   "metadata": {},
   "outputs": [
    {
     "name": "stdout",
     "output_type": "stream",
     "text": [
      "Starting function with 5 second timeout...\n",
      "Starting slow function for Task1...\n",
      "Working on Task1... 0\n",
      "Working on Task1... 1\n",
      "Working on Task1... 2\n",
      "Working on Task1... 3\n",
      "Working on Task1... 4\n",
      "Timeout! Stopping thread...\n",
      "Thread stopping for Task1...\n",
      "Result: None\n",
      "Starting function with 5 second timeout...\n",
      "Starting slow function for Task2...\n",
      "Working on Task2... 0\n",
      "Working on Task2... 1\n",
      "Working on Task2... 2\n",
      "Working on Task2... 3\n",
      "Working on Task2... 4\n",
      "Working on Task2... 5\n",
      "Working on Task2... 6\n",
      "Working on Task2... 7\n",
      "Working on Task2... 8\n",
      "Working on Task2... 9\n",
      "Timeout! Stopping thread...\n",
      "Function completed for Task2!\n",
      "Result: None\n",
      "Starting function with 5 second timeout...\n",
      "Starting slow function for Task3...\n",
      "Working on Task3... 0\n",
      "Working on Task3... 1\n",
      "Working on Task3... 2\n",
      "Working on Task3... 3\n",
      "Working on Task3... 4\n",
      "Working on Task3... 5\n",
      "Timeout! Stopping thread...\n",
      "Thread stopping for Task3...\n",
      "Result: None\n"
     ]
    }
   ],
   "source": [
    "import threading\n",
    "import time\n",
    "\n",
    "def slow_function(name, iterations=20, delay=1):\n",
    "    print(f\"Starting slow function for {name}...\")\n",
    "    for i in range(iterations):\n",
    "        if getattr(threading.current_thread(), \"do_run\", True):\n",
    "            print(f\"Working on {name}... {i}\")\n",
    "            time.sleep(delay)\n",
    "        else:\n",
    "            print(f\"Thread stopping for {name}...\")\n",
    "            return None\n",
    "    print(f\"Function completed for {name}!\")\n",
    "    return f\"Done with {name}\"\n",
    "\n",
    "def run_with_timeout(func, timeout, *args, **kwargs):\n",
    "    print(f\"Starting function with {timeout} second timeout...\")\n",
    "    \n",
    "    result = [None]  # Use list to store result from thread\n",
    "    \n",
    "    def target():\n",
    "        result[0] = func(*args, **kwargs)\n",
    "    \n",
    "    thread = threading.Thread(target=target)\n",
    "    thread.start()\n",
    "    thread.join(timeout)\n",
    "    \n",
    "    if thread.is_alive():\n",
    "        print(\"Timeout! Stopping thread...\")\n",
    "        thread.do_run = False\n",
    "        thread.join(2)  # Wait a bit more for cleanup\n",
    "        return None\n",
    "    return result[0]\n",
    "\n",
    "# Usage examples:\n",
    "result1 = run_with_timeout(slow_function, 5, \"Task1\")\n",
    "print(f\"Result: {result1}\")\n",
    "\n",
    "result2 = run_with_timeout(slow_function, 5, \"Task2\", iterations=10, delay=0.5)\n",
    "print(f\"Result: {result2}\")\n",
    "\n",
    "result3 = run_with_timeout(slow_function, 5, name=\"Task3\", iterations=30, delay=1)\n",
    "print(f\"Result: {result3}\")"
   ]
  }
 ],
 "metadata": {
  "kernelspec": {
   "display_name": "Python 3",
   "language": "python",
   "name": "python3"
  },
  "language_info": {
   "codemirror_mode": {
    "name": "ipython",
    "version": 3
   },
   "file_extension": ".py",
   "mimetype": "text/x-python",
   "name": "python",
   "nbconvert_exporter": "python",
   "pygments_lexer": "ipython3",
   "version": "3.13.5"
  }
 },
 "nbformat": 4,
 "nbformat_minor": 5
}
